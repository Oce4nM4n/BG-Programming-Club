{
 "cells": [
  {
   "cell_type": "code",
   "execution_count": 99,
   "metadata": {},
   "outputs": [],
   "source": [
    "numCats = 3\n",
    "firstCat = \"jellie\"\n",
    "catNames = [firstCat, \"simon\"]\n",
    "catCuteness = True\n"
   ]
  },
  {
   "cell_type": "code",
   "execution_count": 100,
   "metadata": {},
   "outputs": [
    {
     "name": "stdout",
     "output_type": "stream",
     "text": [
      "3\n"
     ]
    }
   ],
   "source": [
    "print(numCats)\n"
   ]
  },
  {
   "cell_type": "code",
   "execution_count": 101,
   "metadata": {},
   "outputs": [
    {
     "name": "stdout",
     "output_type": "stream",
     "text": [
      "jellie\n"
     ]
    }
   ],
   "source": [
    "print(firstCat)\n"
   ]
  },
  {
   "cell_type": "code",
   "execution_count": 102,
   "metadata": {},
   "outputs": [
    {
     "name": "stdout",
     "output_type": "stream",
     "text": [
      "['jellie', 'simon']\n"
     ]
    }
   ],
   "source": [
    "print(catNames)\n"
   ]
  },
  {
   "cell_type": "code",
   "execution_count": 103,
   "metadata": {},
   "outputs": [
    {
     "name": "stdout",
     "output_type": "stream",
     "text": [
      "jellie\n"
     ]
    }
   ],
   "source": [
    "print(catNames[0])\n"
   ]
  },
  {
   "cell_type": "code",
   "execution_count": 104,
   "metadata": {},
   "outputs": [],
   "source": [
    "def petTheCat(cat):\n",
    "    print(\"you pet \"+cat+\".\")\n"
   ]
  },
  {
   "cell_type": "code",
   "execution_count": 105,
   "metadata": {},
   "outputs": [
    {
     "name": "stdout",
     "output_type": "stream",
     "text": [
      "you pet Luna.\n"
     ]
    }
   ],
   "source": [
    "petTheCat(\"Luna\")\n"
   ]
  },
  {
   "cell_type": "code",
   "execution_count": 106,
   "metadata": {},
   "outputs": [
    {
     "name": "stdout",
     "output_type": "stream",
     "text": [
      "{'jellie': 0, 'simon': 0, 'Luna': 1}\n"
     ]
    }
   ],
   "source": [
    "petCounter = {catNames[0]:0, catNames[1]:0, \"Luna\":1}\n",
    "print(petCounter)\n"
   ]
  },
  {
   "cell_type": "code",
   "execution_count": 107,
   "metadata": {},
   "outputs": [],
   "source": [
    "def petTheCat(cat):\n",
    "    print(\"you pet \"+cat+\".\")\n",
    "    if cat in petCounter:\n",
    "        petCounter[cat] += 1\n",
    "    elif cat == simon:\n",
    "        print(\"you pet simon!! :c\")\n",
    "    else:\n",
    "        petCounter[cat]=1\n"
   ]
  },
  {
   "cell_type": "code",
   "execution_count": 108,
   "metadata": {},
   "outputs": [
    {
     "name": "stdout",
     "output_type": "stream",
     "text": [
      "you pet jellie.\n"
     ]
    }
   ],
   "source": [
    "petTheCat(\"jellie\")\n"
   ]
  },
  {
   "cell_type": "code",
   "execution_count": 109,
   "metadata": {},
   "outputs": [
    {
     "name": "stdout",
     "output_type": "stream",
     "text": [
      "{'jellie': 1, 'simon': 0, 'Luna': 1}\n"
     ]
    }
   ],
   "source": [
    "print(petCounter)\n"
   ]
  },
  {
   "cell_type": "code",
   "execution_count": 110,
   "metadata": {},
   "outputs": [
    {
     "name": "stdout",
     "output_type": "stream",
     "text": [
      "0\n"
     ]
    }
   ],
   "source": [
    "print(petCounter.get(\"simon\"))\n"
   ]
  },
  {
   "cell_type": "code",
   "execution_count": 111,
   "metadata": {},
   "outputs": [
    {
     "data": {
      "text/plain": [
       "0"
      ]
     },
     "execution_count": 111,
     "metadata": {},
     "output_type": "execute_result"
    }
   ],
   "source": [
    "petCounter.pop(\"simon\")\n"
   ]
  },
  {
   "cell_type": "code",
   "execution_count": 112,
   "metadata": {},
   "outputs": [
    {
     "name": "stdout",
     "output_type": "stream",
     "text": [
      "{'jellie': 1, 'Luna': 1}\n"
     ]
    }
   ],
   "source": [
    "print(petCounter)\n"
   ]
  },
  {
   "cell_type": "markdown",
   "metadata": {},
   "source": [
    "# Loops"
   ]
  },
  {
   "cell_type": "code",
   "execution_count": 113,
   "metadata": {},
   "outputs": [
    {
     "name": "stdout",
     "output_type": "stream",
     "text": [
      "0\n",
      "1\n",
      "2\n",
      "3\n",
      "4\n"
     ]
    }
   ],
   "source": [
    "for i in range(0, 5):\n",
    "    print(i)\n"
   ]
  },
  {
   "cell_type": "code",
   "execution_count": 114,
   "metadata": {},
   "outputs": [
    {
     "name": "stdout",
     "output_type": "stream",
     "text": [
      "3\n",
      "4\n",
      "5\n"
     ]
    }
   ],
   "source": [
    "print(numCats)\n",
    "while numCats<5:\n",
    "    numCats+=1\n",
    "    print(numCats)\n"
   ]
  },
  {
   "cell_type": "code",
   "execution_count": 115,
   "metadata": {},
   "outputs": [
    {
     "name": "stdout",
     "output_type": "stream",
     "text": [
      "('hello', 'yeah')\n"
     ]
    }
   ],
   "source": [
    "#Tuple,pretty much a unchangeable list\n",
    "thistuple = (\"hello\", \"yeah\")\n",
    "print(thistuple)\n"
   ]
  },
  {
   "cell_type": "code",
   "execution_count": 116,
   "metadata": {},
   "outputs": [
    {
     "name": "stdout",
     "output_type": "stream",
     "text": [
      "<class 'tuple'>\n"
     ]
    }
   ],
   "source": [
    "print(type(thistuple))\n"
   ]
  },
  {
   "cell_type": "code",
   "execution_count": 117,
   "metadata": {},
   "outputs": [
    {
     "name": "stdout",
     "output_type": "stream",
     "text": [
      "{'jellie', 'car', 'apple'}\n"
     ]
    }
   ],
   "source": [
    "\"\"\"\n",
    "sets are pretty much a list BUT can't index as no order, could be different order everytime\n",
    "Unchangeable\n",
    "Also no duplicates\n",
    "\"\"\"\n",
    "\n",
    "thisset = {\"apple\", \"car\", \"jellie\", \"car\"}\n",
    "print(thisset)\n"
   ]
  },
  {
   "cell_type": "code",
   "execution_count": 118,
   "metadata": {},
   "outputs": [
    {
     "name": "stdout",
     "output_type": "stream",
     "text": [
      "<class 'set'>\n"
     ]
    }
   ],
   "source": [
    "print(type(thisset))\n"
   ]
  },
  {
   "cell_type": "code",
   "execution_count": 119,
   "metadata": {},
   "outputs": [],
   "source": [
    "class Cat:\n",
    "    def __init__(self, name, description):\n",
    "        #self means the object you intialize\n",
    "        self.name=name\n",
    "        self.description=description\n"
   ]
  },
  {
   "cell_type": "code",
   "execution_count": 120,
   "metadata": {},
   "outputs": [],
   "source": [
    "jellie=Cat(\"Jellie\", \"A very cute cat\")\n"
   ]
  },
  {
   "cell_type": "code",
   "execution_count": 121,
   "metadata": {},
   "outputs": [
    {
     "name": "stdout",
     "output_type": "stream",
     "text": [
      "A very cute cat\n"
     ]
    }
   ],
   "source": [
    "print(jellie.description)\n"
   ]
  },
  {
   "cell_type": "code",
   "execution_count": 122,
   "metadata": {},
   "outputs": [],
   "source": [
    "class Cat:\n",
    "    def __init__(self, name, description):\n",
    "        #self means the object you intialize\n",
    "        self.name=name\n",
    "        self.description=description\n",
    "\n",
    "    def feed():\n",
    "        self.fed=True\n",
    "        print(\"You fed \" + self.name + \"some food.\")\n"
   ]
  },
  {
   "cell_type": "code",
   "execution_count": 123,
   "metadata": {},
   "outputs": [],
   "source": [
    "import time\n"
   ]
  },
  {
   "cell_type": "code",
   "execution_count": 124,
   "metadata": {},
   "outputs": [
    {
     "name": "stdout",
     "output_type": "stream",
     "text": [
      "hi that was a long 5 seconds\n"
     ]
    }
   ],
   "source": [
    "time.sleep(5)\n",
    "print(\"hi that was a long 5 seconds\")\n"
   ]
  },
  {
   "cell_type": "code",
   "execution_count": 125,
   "metadata": {},
   "outputs": [],
   "source": [
    "class Cat:\n",
    "    def __init__(self, name, description):\n",
    "        #self means the object you intialize\n",
    "        self.name=name\n",
    "        self.description=description\n",
    "        self.hunger()\n",
    "\n",
    "    def feed(self):\n",
    "        self.fed=True\n",
    "        print(\"You fed \" + self.name + \" some food.\")\n",
    "\n",
    "    def hunger(self):\n",
    "        time.sleep(5)\n",
    "        self.fed=False\n",
    "        print(self.name + \" is very hungry.\")\n"
   ]
  },
  {
   "cell_type": "code",
   "execution_count": 126,
   "metadata": {},
   "outputs": [
    {
     "name": "stdout",
     "output_type": "stream",
     "text": [
      "Luna is very hungry.\n"
     ]
    }
   ],
   "source": [
    "Luna=Cat(\"Luna\", \"A moon?\")\n"
   ]
  },
  {
   "cell_type": "code",
   "execution_count": 127,
   "metadata": {},
   "outputs": [
    {
     "name": "stdout",
     "output_type": "stream",
     "text": [
      "You fed Luna some food.\n"
     ]
    }
   ],
   "source": [
    "Luna.feed()\n"
   ]
  }
 ],
 "metadata": {
  "kernelspec": {
   "display_name": "Python 3",
   "language": "python",
   "name": "python3"
  },
  "language_info": {
   "codemirror_mode": {
    "name": "ipython",
    "version": 3
   },
   "file_extension": ".py",
   "mimetype": "text/x-python",
   "name": "python",
   "nbconvert_exporter": "python",
   "pygments_lexer": "ipython3",
   "version": "3.11.6"
  }
 },
 "nbformat": 4,
 "nbformat_minor": 2
}
